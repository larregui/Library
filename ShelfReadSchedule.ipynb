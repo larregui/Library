{
  "nbformat": 4,
  "nbformat_minor": 0,
  "metadata": {
    "colab": {
      "provenance": [],
      "authorship_tag": "ABX9TyOSHM6pPG+n28CUc9uR0su+",
      "include_colab_link": true
    },
    "kernelspec": {
      "name": "python3",
      "display_name": "Python 3"
    },
    "language_info": {
      "name": "python"
    }
  },
  "cells": [
    {
      "cell_type": "markdown",
      "metadata": {
        "id": "view-in-github",
        "colab_type": "text"
      },
      "source": [
        "<a href=\"https://colab.research.google.com/github/larregui/Library/blob/main/ShelfReadSchedule.ipynb\" target=\"_parent\"><img src=\"https://colab.research.google.com/assets/colab-badge.svg\" alt=\"Open In Colab\"/></a>"
      ]
    },
    {
      "cell_type": "code",
      "source": [
        "import pandas as pd\n",
        "import random\n",
        "\n",
        "# Fiction sections\n",
        "fiction_sections = [\n",
        "    \"LP AAA-CHE / LP CHI-FOX\", \"LP FRA-HOT / LP HOV-LOM\", \"LP LON-NOR / LP NOS-ROB\",\n",
        "    \"LP ROB-WILL / LP WIN-LPNF\", \"YA FIC ABA-DYE / YA FIC EE-LIV\", \"YA FIC LIV-ROW / YA FIC RUB-YA NF\",\n",
        "    #\"FIC AAM-ARY / FIC ASA-BAZ\", \"FIC BEA-BOV / FIC BOW-BRO\", \"FIC BRU-CAR / FIC CAR-CLA\",\n",
        "    #\"FIC CLA-COO / FIC COP-DAZ\", \"FIC DEA-DUM / DUN-EWE\", \"FIC FAB-FYF / FIC GAA-GRA\",\n",
        "    #\"FIC BRE-HAR / FIC HAR-HIL\", \"FIC HIM-JAN / FIC JAO-KEM\", \"FIC KEN-LAT / FIC LAU-LYN\",\n",
        "    #\"FIC MA-MCC / FIC MCD-MIZ\", \"FIC MO-NIX / FIC NOB-PAT\", \"FIC PAT-PRA / FIC PRE-RIZ\",\n",
        "    \"FIC ROA-SAM / FIC SAN-SIG\", \"FIC SIL-STE / FIC STI-TOD\", \"FIC TOI-WAS / FIC WAT-WIT\",\n",
        "    \"FIC WOD-WRA / FIC WRI-ZUN\"\n",
        "]\n",
        "\n",
        "# Nonfiction sections\n",
        "nonfiction_sections = [\n",
        "    \"BIO AAA-DAZ / BIO DBA KEL\", \"BIO KEM-ROA / BIO ROB-ZZZ\", \"001-149 / 150-199\",\n",
        "    \"200-248.5 / 248.6-299\", \"300-307 / 308-332\", \"332-354 / 355-364.1\",\n",
        "    \"364.1-399 / 400-551.4\", \"551.5-599 / 600-615\", \"616-619 / 620-634\",\n",
        "    \"635-640 / 641-641.5\", \"641.5-642 / 643-649\", \"650-658.4 / 658.4-699\",\n",
        "    \"700-745 / 746-769\", \"770-791 / 792-799\", \"800-808 / 809-813.3\",\n",
        "    \"813.4-819 / 820-899\", \"900-917.8 / 917.9-937\", \"938-940.5 / 940.5-947\",\n",
        "    \"948-960 / 973.3\", \"TXHIST 973.4-999\"\n",
        "]\n",
        "\n",
        "# Staff information\n",
        "staff = [\n",
        "    \"Jeff\", \"Laura\", \"Phil\", \"Keely\", \"Kerry\", \"Cesar\", \"Deepna\", \"Sony\", \"Gabby\", \"Luna\", \"Jaryn\"\n",
        "]\n",
        "\n",
        "# Initialize the schedule DataFrame\n",
        "schedule = pd.DataFrame(columns=[\"Assigned Staff\", \"Shelf #\", \"Shelf Range\", \"Date Completed\", \"Staff Initials\", \"Notes\"])\n",
        "\n",
        "# Shuffle the sections to ensure random assignment\n",
        "random.shuffle(fiction_sections)\n",
        "random.shuffle(nonfiction_sections)\n",
        "\n",
        "# Assign sections to staff members\n",
        "for i, staff_member in enumerate(staff):\n",
        "    if i < len(fiction_sections) and i < len(nonfiction_sections):\n",
        "        fiction_section = fiction_sections[i]\n",
        "        nonfiction_section = nonfiction_sections[i]\n",
        "        new_rows = pd.DataFrame([\n",
        "            {\n",
        "                \"Assigned Staff\": staff_member,\n",
        "                \"Shelf #\": i + 20,  # Fiction sections start from 20\n",
        "                \"Shelf Range\": fiction_section,\n",
        "                \"Date Completed\": \"\",\n",
        "                \"Staff Initials\": \"\",\n",
        "                \"Notes\": \"\"\n",
        "            },\n",
        "            {\n",
        "                \"Assigned Staff\": staff_member,\n",
        "                \"Shelf #\": i + 1,  # Nonfiction sections start from 1\n",
        "                \"Shelf Range\": nonfiction_section,\n",
        "                \"Date Completed\": \"\",\n",
        "                \"Staff Initials\": \"\",\n",
        "                \"Notes\": \"\"\n",
        "            }\n",
        "        ])\n",
        "        schedule = pd.concat([schedule, new_rows], ignore_index=True)\n",
        "\n",
        "# Save the schedule to an Excel file\n",
        "schedule.to_excel(\"shelf_reading_schedule.xlsx\", index=False)\n",
        "\n",
        "print(\"Schedule generated and saved to shelf_reading_schedule.xlsx\")"
      ],
      "metadata": {
        "colab": {
          "base_uri": "https://localhost:8080/"
        },
        "id": "qpQwllmihPl0",
        "outputId": "e4805ad2-48cd-40a3-eb4f-08d58d115214"
      },
      "execution_count": 3,
      "outputs": [
        {
          "output_type": "stream",
          "name": "stdout",
          "text": [
            "Schedule generated and saved to shelf_reading_schedule.xlsx\n"
          ]
        }
      ]
    }
  ]
}